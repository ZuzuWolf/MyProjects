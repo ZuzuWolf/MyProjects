{
 "cells": [
  {
   "cell_type": "markdown",
   "metadata": {},
   "source": [
    "Prepare the file"
   ]
  },
  {
   "cell_type": "code",
   "execution_count": null,
   "metadata": {},
   "outputs": [],
   "source": [
    "import pandas as pd\n",
    "import numpy as np\n",
    "import matplotlib as mtp\n",
    "import matplotlib.pyplot as plt\n",
    "import seaborn as sns\n",
    "\n",
    "df = pd.read_csv(\"games.csv\")\n",
    "df.head()"
   ]
  },
  {
   "cell_type": "code",
   "execution_count": null,
   "metadata": {},
   "outputs": [],
   "source": [
    "df.info()\n",
    "df.describe()"
   ]
  },
  {
   "cell_type": "markdown",
   "metadata": {},
   "source": [
    "Columns EDA"
   ]
  },
  {
   "cell_type": "markdown",
   "metadata": {},
   "source": [
    "YearPublished"
   ]
  },
  {
   "cell_type": "code",
   "execution_count": null,
   "metadata": {},
   "outputs": [],
   "source": [
    "# first I will determine the span of the values in the \"YearPublished\" column and other basic information using the .describe() function:\n",
    "\n",
    "df[\"YearPublished\"].describe()"
   ]
  },
  {
   "cell_type": "code",
   "execution_count": null,
   "metadata": {},
   "outputs": [],
   "source": [
    "# Histogram shows us the distribution; most of the games are published from year 1500 and above\n",
    "\n",
    "df[\"YearPublished\"]=df[\"YearPublished\"].astype(int, copy=True)\n",
    "\n",
    "%matplotlib inline\n",
    "import matplotlib as plt\n",
    "from matplotlib import pyplot\n",
    "\n",
    "plt.pyplot.hist(df['YearPublished'])"
   ]
  },
  {
   "cell_type": "code",
   "execution_count": null,
   "metadata": {},
   "outputs": [],
   "source": [
    "# I will create a filtered dataframe from the original df one, which will contain only the values after year 1900 to see the distribution in this century:\n",
    "\n",
    "df1 = df[df[\"YearPublished\"] > 1900]\n",
    "plt.pyplot.hist(df1[\"YearPublished\"])"
   ]
  },
  {
   "cell_type": "code",
   "execution_count": null,
   "metadata": {},
   "outputs": [],
   "source": [
    "# Let's plot the basic count of the games per year\n",
    "\n",
    "sns_plot = sns.countplot(x = 'YearPublished', data = df1)"
   ]
  },
  {
   "cell_type": "code",
   "execution_count": null,
   "metadata": {},
   "outputs": [],
   "source": [
    "# We can see that the \"YearPublished\" spans from -3500 to 2021. Some games are not having any year filled and goes only with \"zero\". \n",
    "# First I need to analyze whether the \"minus\" year rows are for valid games which should be analysed:\n",
    "\n",
    "Year_minus = df.loc[df[\"YearPublished\"] < 0].sort_values(by=\"YearPublished\", ascending=True)\n",
    "Year_minus[[\"Name\", \"YearPublished\"]]\n",
    "\n",
    "# We can see that the \"minus\" values are probably an estimated year, when the game was invented - we are speaking about very old board games like Go or Marbles.\n",
    "# There are only 11 \"minus\" years which is totally ok and I will keep these \"minus\" rows in the dataset. "
   ]
  },
  {
   "cell_type": "code",
   "execution_count": null,
   "metadata": {},
   "outputs": [],
   "source": [
    "# And what about the years which are let's say bigger than zero, but are before some \"modern\" age (before 1900)? \n",
    "\n",
    "Year_minus = df.loc[(df[\"YearPublished\"] > 0) & (df[\"YearPublished\"] < 1900) ].sort_values(by=\"YearPublished\", ascending=True)\n",
    "Year_minus[[\"Name\", \"YearPublished\"]]\n",
    "\n",
    "# These seems also like valid invention dates, so I will keep them. "
   ]
  },
  {
   "cell_type": "code",
   "execution_count": null,
   "metadata": {},
   "outputs": [],
   "source": [
    "# Let's have a look at the \"zeros\" in the \"YearPublished\" column: \n",
    "\n",
    "Year_zero = df.loc[df[\"YearPublished\"] == 0]\n",
    "Year_zero[[\"Name\"]]\n",
    "\n",
    "# having basic understanding of the topic and by basic googling, I can see there might be few possible reasons for \"zero\": the game is just \"missing\" the value or it wasn't release yet to date, \n",
    "# or the game was invented in the exact year 0 (low possibility though). \n",
    "# There are 193 \"zero\" values\n",
    "\n",
    "# I will think about these later if these rows are needed"
   ]
  },
  {
   "cell_type": "markdown",
   "metadata": {},
   "source": [
    "MinPlayers / MaxPlayers"
   ]
  },
  {
   "cell_type": "code",
   "execution_count": null,
   "metadata": {},
   "outputs": [],
   "source": []
  },
  {
   "cell_type": "markdown",
   "metadata": {},
   "source": [
    "ComAgeRec"
   ]
  },
  {
   "cell_type": "code",
   "execution_count": null,
   "metadata": {},
   "outputs": [],
   "source": []
  },
  {
   "cell_type": "markdown",
   "metadata": {},
   "source": [
    "Missing data"
   ]
  },
  {
   "cell_type": "code",
   "execution_count": null,
   "metadata": {},
   "outputs": [],
   "source": [
    "missing_data = df.isnull()\n",
    "\n",
    "# for loop to count the number of missing values: \n",
    "\n",
    "for column in missing_data.columns.values.tolist():\n",
    "    print (missing_data[column].value_counts())\n",
    "    print(\"\")"
   ]
  },
  {
   "cell_type": "code",
   "execution_count": null,
   "metadata": {},
   "outputs": [],
   "source": [
    "# filter rows of the columns with null values to determine next steps\n",
    "\n",
    "df.loc[df[\"ComAgeRec\"].isnull()]"
   ]
  },
  {
   "cell_type": "code",
   "execution_count": null,
   "metadata": {},
   "outputs": [],
   "source": [
    "df[\"ComAgeRec\"].value_counts()"
   ]
  },
  {
   "cell_type": "code",
   "execution_count": null,
   "metadata": {},
   "outputs": [],
   "source": [
    "# replace the nan values by mean"
   ]
  },
  {
   "cell_type": "markdown",
   "metadata": {},
   "source": [
    "Data formatting, data standardization, data normalization?"
   ]
  },
  {
   "cell_type": "markdown",
   "metadata": {},
   "source": [
    "One-hot encoding?"
   ]
  },
  {
   "cell_type": "markdown",
   "metadata": {},
   "source": []
  }
 ],
 "metadata": {
  "kernelspec": {
   "display_name": "Python 3",
   "language": "python",
   "name": "python3"
  },
  "language_info": {
   "codemirror_mode": {
    "name": "ipython",
    "version": 3
   },
   "file_extension": ".py",
   "mimetype": "text/x-python",
   "name": "python",
   "nbconvert_exporter": "python",
   "pygments_lexer": "ipython3",
   "version": "3.12.2"
  }
 },
 "nbformat": 4,
 "nbformat_minor": 2
}
